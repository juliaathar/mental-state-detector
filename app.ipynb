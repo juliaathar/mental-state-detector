{
 "cells": [
  {
   "cell_type": "code",
   "execution_count": null,
   "id": "a9722b84",
   "metadata": {},
   "outputs": [],
   "source": [
    "import scipy.io\n",
    "import os\n",
    "from sklearn.model_selection import train_test_split"
   ]
  },
  {
   "cell_type": "code",
   "execution_count": null,
   "id": "08c73307",
   "metadata": {},
   "outputs": [],
   "source": [
    "FOLDER_PATH = \".\\\\EEG-Data\\\\\"\n",
    "\n",
    "eeg_files = [f for f in os.listdir(FOLDER_PATH) if f.endswith('.mat')]\n",
    "\n",
    "data_dict = {}\n",
    "\n",
    "for file in eeg_files:\n",
    "    file_path = os.path.join(FOLDER_PATH, file)\n",
    "    data = scipy.io.loadmat(file_path)\n",
    "    data_dict[file] = data \n",
    "\n",
    "# eeg_data_file_1 = data_dict[\"eeg_record1.mat\"]['o']\n",
    "# print(eeg_data_file_1)\n",
    "\n",
    "# frontal lobe, central frontal, parietaal, and midline channels: F3, F4, Fz, C3, C4, Cz, Pz\n",
    "channels_of_interest = [5, 14, 6, 11, 12, 13, 16] \n"
   ]
  }
 ],
 "metadata": {
  "kernelspec": {
   "display_name": "venv",
   "language": "python",
   "name": "python3"
  },
  "language_info": {
   "codemirror_mode": {
    "name": "ipython",
    "version": 3
   },
   "file_extension": ".py",
   "mimetype": "text/x-python",
   "name": "python",
   "nbconvert_exporter": "python",
   "pygments_lexer": "ipython3",
   "version": "3.13.2"
  }
 },
 "nbformat": 4,
 "nbformat_minor": 5
}
