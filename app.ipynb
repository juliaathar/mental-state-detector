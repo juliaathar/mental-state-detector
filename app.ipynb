{
 "cells": [
  {
   "cell_type": "code",
   "execution_count": 4,
   "id": "a9722b84",
   "metadata": {},
   "outputs": [],
   "source": [
    "from scipy.io import loadmat\n",
    "import os\n",
    "import numpy as np\n",
    "from sklearn.model_selection import train_test_split\n",
    "import matplotlib.pyplot as plt"
   ]
  },
  {
   "cell_type": "code",
   "execution_count": null,
   "id": "08c73307",
   "metadata": {},
   "outputs": [
    {
     "name": "stdout",
     "output_type": "stream",
     "text": [
      "Shape X: (97738, 128, 7)\n",
      "Shape y: (97738,)\n",
      "Unique labels: [0]\n"
     ]
    }
   ],
   "source": [
    "FOLDER_PATH = \".\\\\EEG-Data\\\\\"\n",
    "\n",
    "eeg_files = [f for f in os.listdir(FOLDER_PATH) if f.endswith('.mat')]\n",
    "\n",
    "window_size = 128  # 1 second\n",
    "step_size = 128\n",
    "\n",
    "X_all = []\n",
    "y_all = []\n",
    "\n",
    "# frontal lobe, central frontal, parietaal, and midline channels: F3, F4, Fz, C3, C4, Cz, Pz\n",
    "channels_of_interest = [5, 14, 6, 11, 12, 13, 16] \n",
    "\n",
    "for file in eeg_files:\n",
    "    data = loadmat(os.path.join(FOLDER_PATH, file), squeeze_me=True)\n",
    "    o = data['o'].item()\n",
    "    \n",
    "    raw_data = o[6]\n",
    "    eeg = raw_data[:, channels_of_interest]\n",
    "    labels = raw_data[:, 23]\n",
    "    \n",
    "    for start in range(0, len(eeg) - window_size + 1, step_size):\n",
    "        end = start + window_size\n",
    "        window = eeg[start:end, :]\n",
    "        window_label = labels[start:end]\n",
    "        \n",
    "        counts = np.bincount(window_label.astype(int))\n",
    "        label = np.argmax(counts)\n",
    "        \n",
    "        X_all.append(window)\n",
    "        y_all.append(label)\n",
    "\n",
    "X_all = np.array(X_all)\n",
    "y_all = np.array(y_all)\n",
    "\n",
    "print(f\"Shape X: {X_all.shape}\")\n",
    "print(f\"Shape y: {y_all.shape}\")\n",
    "print(f\"Unique labels: {np.unique(y_all)}\")\n",
    "\n"
   ]
  }
 ],
 "metadata": {
  "kernelspec": {
   "display_name": "venv",
   "language": "python",
   "name": "python3"
  },
  "language_info": {
   "codemirror_mode": {
    "name": "ipython",
    "version": 3
   },
   "file_extension": ".py",
   "mimetype": "text/x-python",
   "name": "python",
   "nbconvert_exporter": "python",
   "pygments_lexer": "ipython3",
   "version": "3.13.2"
  }
 },
 "nbformat": 4,
 "nbformat_minor": 5
}
